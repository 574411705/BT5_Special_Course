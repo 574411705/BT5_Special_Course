{
  "nbformat": 4,
  "nbformat_minor": 0,
  "metadata": {
    "colab": {
      "name": "bluetooth-kmeans.ipynb",
      "provenance": [],
      "collapsed_sections": [],
      "include_colab_link": true
    },
    "kernelspec": {
      "name": "python3",
      "display_name": "Python 3"
    }
  },
  "cells": [
    {
      "cell_type": "markdown",
      "metadata": {
        "id": "view-in-github",
        "colab_type": "text"
      },
      "source": [
        "<a href=\"https://colab.research.google.com/github/574411705/BT5_Special_Course/blob/master/bluetooth_kmeans.ipynb\" target=\"_parent\"><img src=\"https://colab.research.google.com/assets/colab-badge.svg\" alt=\"Open In Colab\"/></a>"
      ]
    },
    {
      "cell_type": "code",
      "metadata": {
        "colab": {
          "base_uri": "https://localhost:8080/",
          "height": 195
        },
        "id": "omPHeFGfrCzT",
        "outputId": "4e4e9987-40ad-4587-f859-d29d33903c3f"
      },
      "source": [
        "import pandas as pd\r\n",
        "\r\n",
        "n = 100 # sampling every n rows\r\n",
        "\r\n",
        "data_15mwd = pd.read_csv('https://raw.githubusercontent.com/574411705/BT5_Special_Course/master/dataset/coded15mwd.csv',names=['time', 'rssi', 'channel'], header=None, skiprows=lambda i: i % n != 0)\r\n",
        "\r\n",
        "data_15mwd['channel'] = '15mwd'\r\n",
        "data_15mwd.head()"
      ],
      "execution_count": 11,
      "outputs": [
        {
          "output_type": "execute_result",
          "data": {
            "text/html": [
              "<div>\n",
              "<style scoped>\n",
              "    .dataframe tbody tr th:only-of-type {\n",
              "        vertical-align: middle;\n",
              "    }\n",
              "\n",
              "    .dataframe tbody tr th {\n",
              "        vertical-align: top;\n",
              "    }\n",
              "\n",
              "    .dataframe thead th {\n",
              "        text-align: right;\n",
              "    }\n",
              "</style>\n",
              "<table border=\"1\" class=\"dataframe\">\n",
              "  <thead>\n",
              "    <tr style=\"text-align: right;\">\n",
              "      <th></th>\n",
              "      <th>time</th>\n",
              "      <th>rssi</th>\n",
              "      <th>channel</th>\n",
              "    </tr>\n",
              "  </thead>\n",
              "  <tbody>\n",
              "    <tr>\n",
              "      <th>0</th>\n",
              "      <td>00:00:33.073</td>\n",
              "      <td>-80</td>\n",
              "      <td>15mwd</td>\n",
              "    </tr>\n",
              "    <tr>\n",
              "      <th>1</th>\n",
              "      <td>00:00:44.250</td>\n",
              "      <td>-85</td>\n",
              "      <td>15mwd</td>\n",
              "    </tr>\n",
              "    <tr>\n",
              "      <th>2</th>\n",
              "      <td>00:00:55.111</td>\n",
              "      <td>-84</td>\n",
              "      <td>15mwd</td>\n",
              "    </tr>\n",
              "    <tr>\n",
              "      <th>3</th>\n",
              "      <td>00:01:06.010</td>\n",
              "      <td>-73</td>\n",
              "      <td>15mwd</td>\n",
              "    </tr>\n",
              "    <tr>\n",
              "      <th>4</th>\n",
              "      <td>00:01:16.608</td>\n",
              "      <td>-80</td>\n",
              "      <td>15mwd</td>\n",
              "    </tr>\n",
              "  </tbody>\n",
              "</table>\n",
              "</div>"
            ],
            "text/plain": [
              "           time  rssi channel\n",
              "0  00:00:33.073   -80   15mwd\n",
              "1  00:00:44.250   -85   15mwd\n",
              "2  00:00:55.111   -84   15mwd\n",
              "3  00:01:06.010   -73   15mwd\n",
              "4  00:01:16.608   -80   15mwd"
            ]
          },
          "metadata": {
            "tags": []
          },
          "execution_count": 11
        }
      ]
    },
    {
      "cell_type": "code",
      "metadata": {
        "colab": {
          "base_uri": "https://localhost:8080/",
          "height": 195
        },
        "id": "wcRWhVKPMpYJ",
        "outputId": "801f0318-c9ea-430b-9301-ac36fa908b77"
      },
      "source": [
        "data_15m = pd.read_csv('https://raw.githubusercontent.com/574411705/BT5_Special_Course/master/dataset/coded15m.csv',names=['time', 'rssi', 'channel'], header=None, skiprows=lambda i: i % n != 0)\r\n",
        "\r\n",
        "data_15m['channel'] = '15m'\r\n",
        "data_15m.head()"
      ],
      "execution_count": 12,
      "outputs": [
        {
          "output_type": "execute_result",
          "data": {
            "text/html": [
              "<div>\n",
              "<style scoped>\n",
              "    .dataframe tbody tr th:only-of-type {\n",
              "        vertical-align: middle;\n",
              "    }\n",
              "\n",
              "    .dataframe tbody tr th {\n",
              "        vertical-align: top;\n",
              "    }\n",
              "\n",
              "    .dataframe thead th {\n",
              "        text-align: right;\n",
              "    }\n",
              "</style>\n",
              "<table border=\"1\" class=\"dataframe\">\n",
              "  <thead>\n",
              "    <tr style=\"text-align: right;\">\n",
              "      <th></th>\n",
              "      <th>time</th>\n",
              "      <th>rssi</th>\n",
              "      <th>channel</th>\n",
              "    </tr>\n",
              "  </thead>\n",
              "  <tbody>\n",
              "    <tr>\n",
              "      <th>0</th>\n",
              "      <td>00:00:18.556</td>\n",
              "      <td>-64</td>\n",
              "      <td>15m</td>\n",
              "    </tr>\n",
              "    <tr>\n",
              "      <th>1</th>\n",
              "      <td>00:00:30.009</td>\n",
              "      <td>-64</td>\n",
              "      <td>15m</td>\n",
              "    </tr>\n",
              "    <tr>\n",
              "      <th>2</th>\n",
              "      <td>00:00:42.331</td>\n",
              "      <td>-67</td>\n",
              "      <td>15m</td>\n",
              "    </tr>\n",
              "    <tr>\n",
              "      <th>3</th>\n",
              "      <td>00:00:54.528</td>\n",
              "      <td>-71</td>\n",
              "      <td>15m</td>\n",
              "    </tr>\n",
              "    <tr>\n",
              "      <th>4</th>\n",
              "      <td>00:01:06.120</td>\n",
              "      <td>-71</td>\n",
              "      <td>15m</td>\n",
              "    </tr>\n",
              "  </tbody>\n",
              "</table>\n",
              "</div>"
            ],
            "text/plain": [
              "           time  rssi channel\n",
              "0  00:00:18.556   -64     15m\n",
              "1  00:00:30.009   -64     15m\n",
              "2  00:00:42.331   -67     15m\n",
              "3  00:00:54.528   -71     15m\n",
              "4  00:01:06.120   -71     15m"
            ]
          },
          "metadata": {
            "tags": []
          },
          "execution_count": 12
        }
      ]
    },
    {
      "cell_type": "code",
      "metadata": {
        "colab": {
          "base_uri": "https://localhost:8080/",
          "height": 195
        },
        "id": "EcmgiNxvdQW9",
        "outputId": "3c638c1f-408d-4f63-b616-c6f6fcb86a90"
      },
      "source": [
        "data_30mwd = pd.read_csv('https://raw.githubusercontent.com/574411705/BT5_Special_Course/master/dataset/coded30mwd.csv',names=['time', 'rssi', 'channel'], header=None, skiprows=lambda i: i % n != 0)\r\n",
        "\r\n",
        "data_30mwd['channel'] = '30mwd'\r\n",
        "data_30mwd.head()\r\n"
      ],
      "execution_count": 13,
      "outputs": [
        {
          "output_type": "execute_result",
          "data": {
            "text/html": [
              "<div>\n",
              "<style scoped>\n",
              "    .dataframe tbody tr th:only-of-type {\n",
              "        vertical-align: middle;\n",
              "    }\n",
              "\n",
              "    .dataframe tbody tr th {\n",
              "        vertical-align: top;\n",
              "    }\n",
              "\n",
              "    .dataframe thead th {\n",
              "        text-align: right;\n",
              "    }\n",
              "</style>\n",
              "<table border=\"1\" class=\"dataframe\">\n",
              "  <thead>\n",
              "    <tr style=\"text-align: right;\">\n",
              "      <th></th>\n",
              "      <th>time</th>\n",
              "      <th>rssi</th>\n",
              "      <th>channel</th>\n",
              "    </tr>\n",
              "  </thead>\n",
              "  <tbody>\n",
              "    <tr>\n",
              "      <th>0</th>\n",
              "      <td>00:00:25.480</td>\n",
              "      <td>-82</td>\n",
              "      <td>30mwd</td>\n",
              "    </tr>\n",
              "    <tr>\n",
              "      <th>1</th>\n",
              "      <td>00:00:38.619</td>\n",
              "      <td>-95</td>\n",
              "      <td>30mwd</td>\n",
              "    </tr>\n",
              "    <tr>\n",
              "      <th>2</th>\n",
              "      <td>00:00:51.263</td>\n",
              "      <td>-86</td>\n",
              "      <td>30mwd</td>\n",
              "    </tr>\n",
              "    <tr>\n",
              "      <th>3</th>\n",
              "      <td>00:01:03.727</td>\n",
              "      <td>-84</td>\n",
              "      <td>30mwd</td>\n",
              "    </tr>\n",
              "    <tr>\n",
              "      <th>4</th>\n",
              "      <td>00:01:15.610</td>\n",
              "      <td>-84</td>\n",
              "      <td>30mwd</td>\n",
              "    </tr>\n",
              "  </tbody>\n",
              "</table>\n",
              "</div>"
            ],
            "text/plain": [
              "           time  rssi channel\n",
              "0  00:00:25.480   -82   30mwd\n",
              "1  00:00:38.619   -95   30mwd\n",
              "2  00:00:51.263   -86   30mwd\n",
              "3  00:01:03.727   -84   30mwd\n",
              "4  00:01:15.610   -84   30mwd"
            ]
          },
          "metadata": {
            "tags": []
          },
          "execution_count": 13
        }
      ]
    },
    {
      "cell_type": "code",
      "metadata": {
        "colab": {
          "base_uri": "https://localhost:8080/",
          "height": 195
        },
        "id": "vlQMJWGGM0Hl",
        "outputId": "46cb156c-6d51-4eb3-b3db-65071598d348"
      },
      "source": [
        "data_30m = pd.read_csv('https://raw.githubusercontent.com/574411705/BT5_Special_Course/master/dataset/coded30m.csv',names=['time', 'rssi', 'channel'], header=None, skiprows=lambda i: i % n != 0)\r\n",
        "\r\n",
        "data_30m['channel'] = '30m'\r\n",
        "data_30m.head()"
      ],
      "execution_count": 14,
      "outputs": [
        {
          "output_type": "execute_result",
          "data": {
            "text/html": [
              "<div>\n",
              "<style scoped>\n",
              "    .dataframe tbody tr th:only-of-type {\n",
              "        vertical-align: middle;\n",
              "    }\n",
              "\n",
              "    .dataframe tbody tr th {\n",
              "        vertical-align: top;\n",
              "    }\n",
              "\n",
              "    .dataframe thead th {\n",
              "        text-align: right;\n",
              "    }\n",
              "</style>\n",
              "<table border=\"1\" class=\"dataframe\">\n",
              "  <thead>\n",
              "    <tr style=\"text-align: right;\">\n",
              "      <th></th>\n",
              "      <th>time</th>\n",
              "      <th>rssi</th>\n",
              "      <th>channel</th>\n",
              "    </tr>\n",
              "  </thead>\n",
              "  <tbody>\n",
              "    <tr>\n",
              "      <th>0</th>\n",
              "      <td>00:02:55.647</td>\n",
              "      <td>-75</td>\n",
              "      <td>30m</td>\n",
              "    </tr>\n",
              "    <tr>\n",
              "      <th>1</th>\n",
              "      <td>00:03:07.145</td>\n",
              "      <td>-69</td>\n",
              "      <td>30m</td>\n",
              "    </tr>\n",
              "    <tr>\n",
              "      <th>2</th>\n",
              "      <td>00:03:18.692</td>\n",
              "      <td>-71</td>\n",
              "      <td>30m</td>\n",
              "    </tr>\n",
              "    <tr>\n",
              "      <th>3</th>\n",
              "      <td>00:03:29.814</td>\n",
              "      <td>-69</td>\n",
              "      <td>30m</td>\n",
              "    </tr>\n",
              "    <tr>\n",
              "      <th>4</th>\n",
              "      <td>00:03:40.764</td>\n",
              "      <td>-77</td>\n",
              "      <td>30m</td>\n",
              "    </tr>\n",
              "  </tbody>\n",
              "</table>\n",
              "</div>"
            ],
            "text/plain": [
              "           time  rssi channel\n",
              "0  00:02:55.647   -75     30m\n",
              "1  00:03:07.145   -69     30m\n",
              "2  00:03:18.692   -71     30m\n",
              "3  00:03:29.814   -69     30m\n",
              "4  00:03:40.764   -77     30m"
            ]
          },
          "metadata": {
            "tags": []
          },
          "execution_count": 14
        }
      ]
    },
    {
      "cell_type": "code",
      "metadata": {
        "colab": {
          "base_uri": "https://localhost:8080/",
          "height": 195
        },
        "id": "dCAhCzCjd_An",
        "outputId": "1f6bcb63-0377-4fe3-adeb-31b3a27974f1"
      },
      "source": [
        "data_3m = pd.read_csv('https://raw.githubusercontent.com/574411705/BT5_Special_Course/master/dataset/coded3m.csv',names=['time', 'rssi', 'channel'], header=None, skiprows=lambda i: i % n != 0)\r\n",
        "\r\n",
        "data_3m['channel'] = '3m'\r\n",
        "data_3m.head()\r\n",
        "\r\n",
        "data_3mwd = pd.read_csv('https://raw.githubusercontent.com/574411705/BT5_Special_Course/master/dataset/coded3mwd.csv',names=['time', 'rssi', 'channel'], header=None, skiprows=lambda i: i % n != 0)\r\n",
        "\r\n",
        "data_3mwd['channel'] = '3mwd'\r\n",
        "data_3mwd.head()"
      ],
      "execution_count": 15,
      "outputs": [
        {
          "output_type": "execute_result",
          "data": {
            "text/html": [
              "<div>\n",
              "<style scoped>\n",
              "    .dataframe tbody tr th:only-of-type {\n",
              "        vertical-align: middle;\n",
              "    }\n",
              "\n",
              "    .dataframe tbody tr th {\n",
              "        vertical-align: top;\n",
              "    }\n",
              "\n",
              "    .dataframe thead th {\n",
              "        text-align: right;\n",
              "    }\n",
              "</style>\n",
              "<table border=\"1\" class=\"dataframe\">\n",
              "  <thead>\n",
              "    <tr style=\"text-align: right;\">\n",
              "      <th></th>\n",
              "      <th>time</th>\n",
              "      <th>rssi</th>\n",
              "      <th>channel</th>\n",
              "    </tr>\n",
              "  </thead>\n",
              "  <tbody>\n",
              "    <tr>\n",
              "      <th>0</th>\n",
              "      <td>00:06:24.782</td>\n",
              "      <td>-71</td>\n",
              "      <td>3mwd</td>\n",
              "    </tr>\n",
              "    <tr>\n",
              "      <th>1</th>\n",
              "      <td>00:06:36.128</td>\n",
              "      <td>-70</td>\n",
              "      <td>3mwd</td>\n",
              "    </tr>\n",
              "    <tr>\n",
              "      <th>2</th>\n",
              "      <td>00:06:47.400</td>\n",
              "      <td>-72</td>\n",
              "      <td>3mwd</td>\n",
              "    </tr>\n",
              "    <tr>\n",
              "      <th>3</th>\n",
              "      <td>00:06:59.402</td>\n",
              "      <td>-72</td>\n",
              "      <td>3mwd</td>\n",
              "    </tr>\n",
              "    <tr>\n",
              "      <th>4</th>\n",
              "      <td>00:07:11.060</td>\n",
              "      <td>-71</td>\n",
              "      <td>3mwd</td>\n",
              "    </tr>\n",
              "  </tbody>\n",
              "</table>\n",
              "</div>"
            ],
            "text/plain": [
              "           time  rssi channel\n",
              "0  00:06:24.782   -71    3mwd\n",
              "1  00:06:36.128   -70    3mwd\n",
              "2  00:06:47.400   -72    3mwd\n",
              "3  00:06:59.402   -72    3mwd\n",
              "4  00:07:11.060   -71    3mwd"
            ]
          },
          "metadata": {
            "tags": []
          },
          "execution_count": 15
        }
      ]
    },
    {
      "cell_type": "code",
      "metadata": {
        "id": "LJGBQBrSmKDu",
        "colab": {
          "base_uri": "https://localhost:8080/",
          "height": 195
        },
        "outputId": "8e947252-fb7f-4ce1-eb3e-fcd58d312758"
      },
      "source": [
        "data_6m = pd.read_csv('https://raw.githubusercontent.com/574411705/BT5_Special_Course/master/dataset/coded6m.csv',names=['time', 'rssi', 'channel'], header=None, skiprows=lambda i: i % n != 0)\r\n",
        "\r\n",
        "data_6m['channel'] = '6m'\r\n",
        "data_6m.head()"
      ],
      "execution_count": 16,
      "outputs": [
        {
          "output_type": "execute_result",
          "data": {
            "text/html": [
              "<div>\n",
              "<style scoped>\n",
              "    .dataframe tbody tr th:only-of-type {\n",
              "        vertical-align: middle;\n",
              "    }\n",
              "\n",
              "    .dataframe tbody tr th {\n",
              "        vertical-align: top;\n",
              "    }\n",
              "\n",
              "    .dataframe thead th {\n",
              "        text-align: right;\n",
              "    }\n",
              "</style>\n",
              "<table border=\"1\" class=\"dataframe\">\n",
              "  <thead>\n",
              "    <tr style=\"text-align: right;\">\n",
              "      <th></th>\n",
              "      <th>time</th>\n",
              "      <th>rssi</th>\n",
              "      <th>channel</th>\n",
              "    </tr>\n",
              "  </thead>\n",
              "  <tbody>\n",
              "    <tr>\n",
              "      <th>0</th>\n",
              "      <td>00:02:58.523</td>\n",
              "      <td>-77</td>\n",
              "      <td>6m</td>\n",
              "    </tr>\n",
              "    <tr>\n",
              "      <th>1</th>\n",
              "      <td>00:03:10.013</td>\n",
              "      <td>-65</td>\n",
              "      <td>6m</td>\n",
              "    </tr>\n",
              "    <tr>\n",
              "      <th>2</th>\n",
              "      <td>00:03:25.335</td>\n",
              "      <td>-61</td>\n",
              "      <td>6m</td>\n",
              "    </tr>\n",
              "    <tr>\n",
              "      <th>3</th>\n",
              "      <td>00:03:41.485</td>\n",
              "      <td>-63</td>\n",
              "      <td>6m</td>\n",
              "    </tr>\n",
              "    <tr>\n",
              "      <th>4</th>\n",
              "      <td>00:03:56.097</td>\n",
              "      <td>-62</td>\n",
              "      <td>6m</td>\n",
              "    </tr>\n",
              "  </tbody>\n",
              "</table>\n",
              "</div>"
            ],
            "text/plain": [
              "           time  rssi channel\n",
              "0  00:02:58.523   -77      6m\n",
              "1  00:03:10.013   -65      6m\n",
              "2  00:03:25.335   -61      6m\n",
              "3  00:03:41.485   -63      6m\n",
              "4  00:03:56.097   -62      6m"
            ]
          },
          "metadata": {
            "tags": []
          },
          "execution_count": 16
        }
      ]
    },
    {
      "cell_type": "code",
      "metadata": {
        "colab": {
          "base_uri": "https://localhost:8080/",
          "height": 195
        },
        "id": "dA6bD9sJe7Cc",
        "outputId": "04a02919-1026-45ae-ebe1-cd1f60b05f25"
      },
      "source": [
        "\r\n",
        "\r\n",
        "data_6mwd = pd.read_csv('https://raw.githubusercontent.com/574411705/BT5_Special_Course/master/dataset/coded6mwd.csv',names=['time', 'rssi', 'channel'], header=None, skiprows=lambda i: i % n != 0)\r\n",
        "\r\n",
        "data_6mwd['channel'] = '6mwd'\r\n",
        "data_6mwd.head()"
      ],
      "execution_count": 17,
      "outputs": [
        {
          "output_type": "execute_result",
          "data": {
            "text/html": [
              "<div>\n",
              "<style scoped>\n",
              "    .dataframe tbody tr th:only-of-type {\n",
              "        vertical-align: middle;\n",
              "    }\n",
              "\n",
              "    .dataframe tbody tr th {\n",
              "        vertical-align: top;\n",
              "    }\n",
              "\n",
              "    .dataframe thead th {\n",
              "        text-align: right;\n",
              "    }\n",
              "</style>\n",
              "<table border=\"1\" class=\"dataframe\">\n",
              "  <thead>\n",
              "    <tr style=\"text-align: right;\">\n",
              "      <th></th>\n",
              "      <th>time</th>\n",
              "      <th>rssi</th>\n",
              "      <th>channel</th>\n",
              "    </tr>\n",
              "  </thead>\n",
              "  <tbody>\n",
              "    <tr>\n",
              "      <th>0</th>\n",
              "      <td>00:00:31.859</td>\n",
              "      <td>-61</td>\n",
              "      <td>6mwd</td>\n",
              "    </tr>\n",
              "    <tr>\n",
              "      <th>1</th>\n",
              "      <td>00:00:42.902</td>\n",
              "      <td>-74</td>\n",
              "      <td>6mwd</td>\n",
              "    </tr>\n",
              "    <tr>\n",
              "      <th>2</th>\n",
              "      <td>00:00:54.673</td>\n",
              "      <td>-71</td>\n",
              "      <td>6mwd</td>\n",
              "    </tr>\n",
              "    <tr>\n",
              "      <th>3</th>\n",
              "      <td>00:01:06.168</td>\n",
              "      <td>-61</td>\n",
              "      <td>6mwd</td>\n",
              "    </tr>\n",
              "    <tr>\n",
              "      <th>4</th>\n",
              "      <td>00:01:17.916</td>\n",
              "      <td>-67</td>\n",
              "      <td>6mwd</td>\n",
              "    </tr>\n",
              "  </tbody>\n",
              "</table>\n",
              "</div>"
            ],
            "text/plain": [
              "           time  rssi channel\n",
              "0  00:00:31.859   -61    6mwd\n",
              "1  00:00:42.902   -74    6mwd\n",
              "2  00:00:54.673   -71    6mwd\n",
              "3  00:01:06.168   -61    6mwd\n",
              "4  00:01:17.916   -67    6mwd"
            ]
          },
          "metadata": {
            "tags": []
          },
          "execution_count": 17
        }
      ]
    },
    {
      "cell_type": "code",
      "metadata": {
        "colab": {
          "base_uri": "https://localhost:8080/",
          "height": 195
        },
        "id": "ilhN9TvGMWAl",
        "outputId": "306d4f0b-b499-4896-ada2-514779d2de9b"
      },
      "source": [
        "data_9m = pd.read_csv('https://raw.githubusercontent.com/574411705/BT5_Special_Course/master/dataset/coded9m.csv',names=['time', 'rssi', 'channel'], header=None, skiprows=lambda i: i % n != 0)\r\n",
        "\r\n",
        "data_9m['channel'] = '9m'\r\n",
        "data_9m.head()"
      ],
      "execution_count": 18,
      "outputs": [
        {
          "output_type": "execute_result",
          "data": {
            "text/html": [
              "<div>\n",
              "<style scoped>\n",
              "    .dataframe tbody tr th:only-of-type {\n",
              "        vertical-align: middle;\n",
              "    }\n",
              "\n",
              "    .dataframe tbody tr th {\n",
              "        vertical-align: top;\n",
              "    }\n",
              "\n",
              "    .dataframe thead th {\n",
              "        text-align: right;\n",
              "    }\n",
              "</style>\n",
              "<table border=\"1\" class=\"dataframe\">\n",
              "  <thead>\n",
              "    <tr style=\"text-align: right;\">\n",
              "      <th></th>\n",
              "      <th>time</th>\n",
              "      <th>rssi</th>\n",
              "      <th>channel</th>\n",
              "    </tr>\n",
              "  </thead>\n",
              "  <tbody>\n",
              "    <tr>\n",
              "      <th>0</th>\n",
              "      <td>00:00:21.290</td>\n",
              "      <td>-64</td>\n",
              "      <td>9m</td>\n",
              "    </tr>\n",
              "    <tr>\n",
              "      <th>1</th>\n",
              "      <td>00:00:32.593</td>\n",
              "      <td>-73</td>\n",
              "      <td>9m</td>\n",
              "    </tr>\n",
              "    <tr>\n",
              "      <th>2</th>\n",
              "      <td>00:00:43.716</td>\n",
              "      <td>-67</td>\n",
              "      <td>9m</td>\n",
              "    </tr>\n",
              "    <tr>\n",
              "      <th>3</th>\n",
              "      <td>00:00:54.465</td>\n",
              "      <td>-66</td>\n",
              "      <td>9m</td>\n",
              "    </tr>\n",
              "    <tr>\n",
              "      <th>4</th>\n",
              "      <td>00:01:05.468</td>\n",
              "      <td>-77</td>\n",
              "      <td>9m</td>\n",
              "    </tr>\n",
              "  </tbody>\n",
              "</table>\n",
              "</div>"
            ],
            "text/plain": [
              "           time  rssi channel\n",
              "0  00:00:21.290   -64      9m\n",
              "1  00:00:32.593   -73      9m\n",
              "2  00:00:43.716   -67      9m\n",
              "3  00:00:54.465   -66      9m\n",
              "4  00:01:05.468   -77      9m"
            ]
          },
          "metadata": {
            "tags": []
          },
          "execution_count": 18
        }
      ]
    },
    {
      "cell_type": "code",
      "metadata": {
        "colab": {
          "base_uri": "https://localhost:8080/",
          "height": 195
        },
        "id": "UpoPwL9ffEo5",
        "outputId": "c4d3deb7-dd6e-41bb-83f9-25078caeb8c3"
      },
      "source": [
        "data_9mwd = pd.read_csv('https://raw.githubusercontent.com/574411705/BT5_Special_Course/master/dataset/coded9mwd.csv',names=['time', 'rssi', 'channel'], header=None, skiprows=lambda i: i % n != 0)\r\n",
        "\r\n",
        "data_9mwd['channel'] = '9mwd'\r\n",
        "data_9mwd.head()\r\n"
      ],
      "execution_count": 19,
      "outputs": [
        {
          "output_type": "execute_result",
          "data": {
            "text/html": [
              "<div>\n",
              "<style scoped>\n",
              "    .dataframe tbody tr th:only-of-type {\n",
              "        vertical-align: middle;\n",
              "    }\n",
              "\n",
              "    .dataframe tbody tr th {\n",
              "        vertical-align: top;\n",
              "    }\n",
              "\n",
              "    .dataframe thead th {\n",
              "        text-align: right;\n",
              "    }\n",
              "</style>\n",
              "<table border=\"1\" class=\"dataframe\">\n",
              "  <thead>\n",
              "    <tr style=\"text-align: right;\">\n",
              "      <th></th>\n",
              "      <th>time</th>\n",
              "      <th>rssi</th>\n",
              "      <th>channel</th>\n",
              "    </tr>\n",
              "  </thead>\n",
              "  <tbody>\n",
              "    <tr>\n",
              "      <th>0</th>\n",
              "      <td>00:01:18.168</td>\n",
              "      <td>-79</td>\n",
              "      <td>9mwd</td>\n",
              "    </tr>\n",
              "    <tr>\n",
              "      <th>1</th>\n",
              "      <td>00:01:30.069</td>\n",
              "      <td>-74</td>\n",
              "      <td>9mwd</td>\n",
              "    </tr>\n",
              "    <tr>\n",
              "      <th>2</th>\n",
              "      <td>00:01:42.264</td>\n",
              "      <td>-72</td>\n",
              "      <td>9mwd</td>\n",
              "    </tr>\n",
              "    <tr>\n",
              "      <th>3</th>\n",
              "      <td>00:01:55.892</td>\n",
              "      <td>-73</td>\n",
              "      <td>9mwd</td>\n",
              "    </tr>\n",
              "    <tr>\n",
              "      <th>4</th>\n",
              "      <td>00:02:08.939</td>\n",
              "      <td>-70</td>\n",
              "      <td>9mwd</td>\n",
              "    </tr>\n",
              "  </tbody>\n",
              "</table>\n",
              "</div>"
            ],
            "text/plain": [
              "           time  rssi channel\n",
              "0  00:01:18.168   -79    9mwd\n",
              "1  00:01:30.069   -74    9mwd\n",
              "2  00:01:42.264   -72    9mwd\n",
              "3  00:01:55.892   -73    9mwd\n",
              "4  00:02:08.939   -70    9mwd"
            ]
          },
          "metadata": {
            "tags": []
          },
          "execution_count": 19
        }
      ]
    },
    {
      "cell_type": "markdown",
      "metadata": {
        "id": "IlcHdeTfhr_C"
      },
      "source": [
        "Consider the scenarios only with door"
      ]
    },
    {
      "cell_type": "code",
      "metadata": {
        "colab": {
          "base_uri": "https://localhost:8080/",
          "height": 702
        },
        "id": "0H8bP8IbY7SH",
        "outputId": "dbcb4ced-8387-4cf7-fb0d-01ba64231e76"
      },
      "source": [
        "import matplotlib.pyplot as plt\r\n",
        "# data_merge = pd.concat([data_3m, data_3mwd, data_6m, data_6mwd, data_9m， data_9mwd, data_15m， data_15mwd, data_30m, data_30mwd])\r\n",
        "data_merge = pd.concat([data_3m, data_3mwd, data_6m, data_6mwd, data_9m, data_9mwd, data_15m, data_15mwd, data_30m, data_30mwd])\r\n",
        "X = data_merge[['channel','rssi']]\r\n",
        "X['dist'] = 'default'\r\n",
        "from sklearn.preprocessing import LabelEncoder\r\n",
        "le = LabelEncoder()\r\n",
        "X['dist'] = le.fit_transform(X['channel']) # encoding the points from string to integer\r\n",
        "plt.scatter(X['dist'], X['rssi'])\r\n",
        "print(X)\r\n",
        "print(X['dist'])"
      ],
      "execution_count": 22,
      "outputs": [
        {
          "output_type": "stream",
          "text": [
            "   channel  rssi  dist\n",
            "0       3m   -38     4\n",
            "1       3m   -36     4\n",
            "2       3m   -39     4\n",
            "3       3m   -35     4\n",
            "4       3m   -31     4\n",
            "..     ...   ...   ...\n",
            "1    30mwd   -95     3\n",
            "2    30mwd   -86     3\n",
            "3    30mwd   -84     3\n",
            "4    30mwd   -84     3\n",
            "5    30mwd   -98     3\n",
            "\n",
            "[212 rows x 3 columns]\n",
            "0    4\n",
            "1    4\n",
            "2    4\n",
            "3    4\n",
            "4    4\n",
            "    ..\n",
            "1    3\n",
            "2    3\n",
            "3    3\n",
            "4    3\n",
            "5    3\n",
            "Name: dist, Length: 212, dtype: int64\n"
          ],
          "name": "stdout"
        },
        {
          "output_type": "display_data",
          "data": {
            "image/png": "[encoded data removed]",
            "text/plain": [
              "<Figure size 432x288 with 1 Axes>"
            ]
          },
          "metadata": {
            "tags": [],
            "needs_background": "light"
          }
        }
      ]
    },
    {
      "cell_type": "code",
      "metadata": {
        "colab": {
          "base_uri": "https://localhost:8080/",
          "height": 282
        },
        "id": "48N2HQsEf4r0",
        "outputId": "2958a12f-895a-4f99-9571-b5c126984835"
      },
      "source": [
        "from sklearn.cluster import KMeans\r\n",
        "X = X.drop('channel', 1)\r\n",
        "kmeans = KMeans(n_clusters=3) #number of clusters to predict 3\r\n",
        "kmeans.fit(X) #fitting the model to X\r\n",
        "# y_pred = kmeans.predict(X) #predicting labels (y) and saving to y_pred\r\n",
        "clusters = kmeans.fit_predict(X)\r\n",
        "\r\n",
        "#Plotting predicted labels as a scatter\r\n",
        "clusters_label = ['Cluster 1', 'Cluster 2', 'Cluster 3']\r\n",
        "# scatter = plt.scatter(X['dist'], X['rssi'], c=y_pred)\r\n",
        "scatter = plt.scatter(X['dist'], X['rssi'], c=clusters)\r\n",
        "plt.legend(handles=scatter.legend_elements()[0], labels=clusters_label,loc='upper left')"
      ],
      "execution_count": 23,
      "outputs": [
        {
          "output_type": "execute_result",
          "data": {
            "text/plain": [
              "<matplotlib.legend.Legend at 0x7f0ad5ac8fd0>"
            ]
          },
          "metadata": {
            "tags": []
          },
          "execution_count": 23
        },
        {
          "output_type": "display_data",
          "data": {
            "image/png": "[encoded data removed]",
            "text/plain": [
              "<Figure size 432x288 with 1 Axes>"
            ]
          },
          "metadata": {
            "tags": [],
            "needs_background": "light"
          }
        }
      ]
    },
    {
      "cell_type": "code",
      "metadata": {
        "colab": {
          "base_uri": "https://localhost:8080/"
        },
        "id": "g8ANXGfc3IPj",
        "outputId": "0b2b62a7-d3d2-443d-f9cf-2c7366527bf2"
      },
      "source": [
        "kmeans.cluster_centers_"
      ],
      "execution_count": null,
      "outputs": [
        {
          "output_type": "execute_result",
          "data": {
            "text/plain": [
              "array([[-84.57142857,   0.71428571],\n",
              "       [-72.04444444,   2.28888889],\n",
              "       [-63.38461538,   2.61538462]])"
            ]
          },
          "metadata": {
            "tags": []
          },
          "execution_count": 8
        }
      ]
    },
    {
      "cell_type": "code",
      "metadata": {
        "colab": {
          "base_uri": "https://localhost:8080/"
        },
        "id": "9viIJ_bf8b8j",
        "outputId": "83ed4cd8-3bad-49a8-e2ee-44df04ad98ad"
      },
      "source": [
        "import numpy as np\r\n",
        "def k_max_distance(data, cx, cy, i_centroid, cluster_labels):\r\n",
        "        idx = np.where(cluster_labels == i_centroid)\r\n",
        "        x = data['rssi'].iloc[idx]\r\n",
        "        y = data['dist'].iloc[idx]\r\n",
        "        distances = np.sqrt((x-cx)**2+(y-cy)**2)\r\n",
        "        max_dist = np.max(distances)\r\n",
        "        max_rssi = x.iloc[np.argmax(distances)]\r\n",
        "        max_point = y.iloc[np.argmax(distances)]\r\n",
        "        return max_dist, max_rssi, max_point\r\n",
        "\r\n",
        "\r\n",
        "def k_max_5_distance(data, cx, cy, i_centroid, cluster_labels):\r\n",
        "        K = 5 # top K maximum value\r\n",
        "        idx = np.where(cluster_labels == i_centroid)\r\n",
        "        x = data['rssi'].iloc[idx]\r\n",
        "        y = data['dist'].iloc[idx]\r\n",
        "        distances = np.sqrt((x-cx)**2+(y-cy)**2)\r\n",
        "        max_5_dist = np.argpartition(distances,-K)[-K:]\r\n",
        "        max_5_rssi = x.iloc[max_5_dist]\r\n",
        "        max_5_point = y.iloc[max_5_dist]\r\n",
        "        return max_5_dist, max_5_rssi, max_5_point\r\n",
        "\r\n",
        "clusters = kmeans.fit_predict(X)\r\n",
        "centroids = kmeans.cluster_centers_\r\n",
        "c_max_distances = []\r\n",
        "c_max_rssi = []\r\n",
        "c_max_point = []\r\n",
        "for i, (cx, cy) in enumerate(centroids):\r\n",
        "    # print(clusters)\r\n",
        "    # print(i)\r\n",
        "    # print(len(X[clusters == i]))    \r\n",
        "    max_distance, max_rssi, max_point = k_max_distance(X, cx, cy, i, clusters)\r\n",
        "    c_max_distances.append(max_distance)\r\n",
        "    c_max_rssi.append(max_rssi)\r\n",
        "    c_max_point.append(max_point)\r\n",
        "\r\n",
        "print(c_max_distances)\r\n",
        "print(c_max_rssi)\r\n",
        "print(c_max_point)"
      ],
      "execution_count": null,
      "outputs": [
        {
          "output_type": "stream",
          "text": [
            "[6.196494429100737, 13.431610598335041, 3.63578532249122]\n",
            "[-78, -98, -67]\n",
            "[4, 1, 3]\n"
          ],
          "name": "stdout"
        }
      ]
    },
    {
      "cell_type": "code",
      "metadata": {
        "colab": {
          "base_uri": "https://localhost:8080/"
        },
        "id": "P-dYd2cEbrq1",
        "outputId": "5e26fa62-9e0a-4968-97a6-1ddb14c7dd46"
      },
      "source": [
        "\r\n",
        "c_max_5_distances = []\r\n",
        "c_max_5_rssi = []\r\n",
        "c_max_5_point = []\r\n",
        "for i, (cx, cy) in enumerate(centroids):\r\n",
        "    # print(clusters)\r\n",
        "    # print(i)\r\n",
        "    # print(len(X[clusters == i]))    \r\n",
        "    max_distance, max_rssi, max_point = k_max_5_distance(X, cx, cy, i, clusters)\r\n",
        "    c_max_5_distances.append(max_distance)\r\n",
        "    c_max_5_rssi.append(max_rssi)\r\n",
        "    c_max_5_point.append(max_point)\r\n",
        "\r\n",
        "# print('c_max_5_distances\\n', c_max_5_distances)\r\n",
        "print('c_max_5_rssi\\n', c_max_5_rssi)\r\n",
        "# print('c_max_5_point\\n', c_max_5_point)"
      ],
      "execution_count": null,
      "outputs": [
        {
          "output_type": "stream",
          "text": [
            "c_max_5_rssi\n",
            " [9    -68\n",
            "13   -76\n",
            "7    -76\n",
            "10   -78\n",
            "0    -77\n",
            "Name: rssi, dtype: int64, 0    -80\n",
            "12   -79\n",
            "0    -79\n",
            "1    -95\n",
            "5    -98\n",
            "Name: rssi, dtype: int64, 4   -62\n",
            "9   -62\n",
            "8   -67\n",
            "1   -65\n",
            "2   -61\n",
            "Name: rssi, dtype: int64]\n"
          ],
          "name": "stdout"
        }
      ]
    },
    {
      "cell_type": "markdown",
      "metadata": {
        "id": "8XfyzrQ9hnu6"
      },
      "source": [
        "Consider the scenarios with/without door"
      ]
    },
    {
      "cell_type": "code",
      "metadata": {
        "colab": {
          "base_uri": "https://localhost:8080/",
          "height": 733
        },
        "id": "STRTbx0FYSdW",
        "outputId": "3abdd7ba-7e30-443c-bad8-ef8dc7589c4a"
      },
      "source": [
        "# data_merge_wd = pd.concat([data_3m, data_6m, data_3mwd, data_6mwd])\r\n",
        "data_merge_wd = pd.concat([data_3m, data_3mwd, data_6m, data_6mwd, data_9mwd, data_15mwd, data_30mwd])\r\n",
        "X_wd = data_merge_wd[['channel','rssi']]\r\n",
        "plt.scatter(X_wd['channel'], X_wd['rssi'])\r\n",
        "X_wd['dist'] = 'default'\r\n",
        "\r\n",
        "X_wd['dist'] = le.fit_transform(X_wd['channel']) # encoding the points from string to integer\r\n",
        "# plt.scatter(X_wd['dist'], X_wd['rssi'])\r\n",
        "print(X_wd)\r\n",
        "print(X_wd['dist'])"
      ],
      "execution_count": null,
      "outputs": [
        {
          "output_type": "stream",
          "text": [
            "   channel  rssi  dist\n",
            "0       3m   -38     2\n",
            "1       3m   -36     2\n",
            "2       3m   -39     2\n",
            "3       3m   -35     2\n",
            "4       3m   -31     2\n",
            "..     ...   ...   ...\n",
            "1    30mwd   -95     1\n",
            "2    30mwd   -86     1\n",
            "3    30mwd   -84     1\n",
            "4    30mwd   -84     1\n",
            "5    30mwd   -98     1\n",
            "\n",
            "[166 rows x 3 columns]\n",
            "0    2\n",
            "1    2\n",
            "2    2\n",
            "3    2\n",
            "4    2\n",
            "    ..\n",
            "1    1\n",
            "2    1\n",
            "3    1\n",
            "4    1\n",
            "5    1\n",
            "Name: dist, Length: 166, dtype: int64\n"
          ],
          "name": "stdout"
        },
        {
          "output_type": "display_data",
          "data": {
            "image/png": "[encoded data removed]",
            "text/plain": [
              "<Figure size 432x288 with 1 Axes>"
            ]
          },
          "metadata": {
            "tags": [],
            "needs_background": "light"
          }
        }
      ]
    },
    {
      "cell_type": "code",
      "metadata": {
        "colab": {
          "base_uri": "https://localhost:8080/",
          "height": 283
        },
        "id": "-JZv2_O5YVX8",
        "outputId": "adba5ea0-1307-4f8d-e0e4-30931f0e89e2"
      },
      "source": [
        "from sklearn.cluster import KMeans\r\n",
        "X_wd = X_wd.drop('channel', 1)\r\n",
        "kmeans_wd = KMeans(n_clusters=3) #number of clusters to predict 3\r\n",
        "kmeans_wd.fit(X_wd) #fitting the model to X\r\n",
        "# y_pred_wd = kmeans_wd.predict(X_wd) #predicting labels (y) and saving to y_pred\r\n",
        "clusters_wd = kmeans_wd.fit_predict(X_wd)\r\n",
        "\r\n",
        "#Plotting predicted labels as a scatter\r\n",
        "clusters = ['Cluster 1', 'Cluster 2', 'Cluster 3']\r\n",
        "# scatter_wd = plt.scatter(X_wd['dist'], X_wd['rssi'], c=y_pred_wd)\r\n",
        "scatter_wd = plt.scatter(X_wd['dist'], X_wd['rssi'], c=clusters_wd)\r\n",
        "plt.legend(handles=scatter_wd.legend_elements()[0], labels=clusters)"
      ],
      "execution_count": null,
      "outputs": [
        {
          "output_type": "execute_result",
          "data": {
            "text/plain": [
              "<matplotlib.legend.Legend at 0x7f5fc2e5c278>"
            ]
          },
          "metadata": {
            "tags": []
          },
          "execution_count": 12
        },
        {
          "output_type": "display_data",
          "data": {
            "image/png": "[encoded data removed]",
            "text/plain": [
              "<Figure size 432x288 with 1 Axes>"
            ]
          },
          "metadata": {
            "tags": [],
            "needs_background": "light"
          }
        }
      ]
    },
    {
      "cell_type": "code",
      "metadata": {
        "colab": {
          "base_uri": "https://localhost:8080/"
        },
        "id": "NUwu21buYX4s",
        "outputId": "d6776872-1d60-4844-c4eb-8d2f4d95d530"
      },
      "source": [
        "kmeans_wd.cluster_centers_"
      ],
      "execution_count": null,
      "outputs": [
        {
          "output_type": "execute_result",
          "data": {
            "text/plain": [
              "array([[-60.51111111,   2.5       ],\n",
              "       [-74.37681159,   2.88405797],\n",
              "       [-39.14285714,   2.        ]])"
            ]
          },
          "metadata": {
            "tags": []
          },
          "execution_count": 13
        }
      ]
    },
    {
      "cell_type": "code",
      "metadata": {
        "colab": {
          "base_uri": "https://localhost:8080/"
        },
        "id": "7akXq2DSYaQ3",
        "outputId": "49972217-51ab-43df-c7a2-3e70c6437fdb"
      },
      "source": [
        "clusters_wd = kmeans_wd.fit_predict(X_wd)\r\n",
        "centroids_wd = kmeans_wd.cluster_centers_\r\n",
        "c_max_distances_wd = []\r\n",
        "c_max_rssi_wd = []\r\n",
        "c_max_point_wd = []\r\n",
        "for i, (cx, cy) in enumerate(centroids_wd):\r\n",
        "    # print(clusters)\r\n",
        "    # print(i)\r\n",
        "    # print(len(X[clusters == i]))    \r\n",
        "    max_distance_wd, max_rssi_wd, max_point_wd = k_max_distance(X_wd, cx, cy, i, clusters_wd)\r\n",
        "    c_max_distances_wd.append(max_distance_wd)\r\n",
        "    c_max_rssi_wd.append(max_rssi_wd)\r\n",
        "    c_max_point_wd.append(max_point_wd)\r\n",
        "\r\n",
        "print(c_max_distances_wd)\r\n",
        "print(c_max_rssi_wd)\r\n",
        "print(c_max_point_wd)"
      ],
      "execution_count": null,
      "outputs": [
        {
          "output_type": "stream",
          "text": [
            "[6.95382477578675, 23.69820045686865, 9.857142857142861]\n",
            "[-67, -98, -49]\n",
            "[5, 1, 2]\n"
          ],
          "name": "stdout"
        }
      ]
    },
    {
      "cell_type": "code",
      "metadata": {
        "colab": {
          "base_uri": "https://localhost:8080/"
        },
        "id": "oRvRD4xnc98Y",
        "outputId": "79980b57-bad1-4816-f78c-02e74e596455"
      },
      "source": [
        "c_max_5_distances_wd = []\r\n",
        "c_max_5_rssi_wd = []\r\n",
        "c_max_5_point_wd = []\r\n",
        "for i, (cx, cy) in enumerate(centroids_wd):\r\n",
        "    # print(clusters)\r\n",
        "    # print(i)\r\n",
        "    # print(len(X[clusters == i]))    \r\n",
        "    max_distance_wd, max_rssi_wd, max_point_wd = k_max_5_distance(X_wd, cx, cy, i, clusters_wd)\r\n",
        "    c_max_5_distances_wd.append(max_distance_wd)\r\n",
        "    c_max_5_rssi_wd.append(max_rssi_wd)\r\n",
        "    c_max_5_point_wd.append(max_point_wd)\r\n",
        "\r\n",
        "# print('c_max_5_distances_wd\\n', c_max_5_distances_wd)\r\n",
        "print('c_max_5_rssi_wd\\n', c_max_5_rssi_wd)\r\n",
        "# print('c_max_5_point_wd\\n', c_max_5_point_wd)"
      ],
      "execution_count": null,
      "outputs": [
        {
          "output_type": "stream",
          "text": [
            "c_max_5_rssi_wd\n",
            " [42   -54\n",
            "13   -54\n",
            "25   -54\n",
            "8    -67\n",
            "8    -67\n",
            "Name: rssi, dtype: int64, 1   -85\n",
            "2   -86\n",
            "6   -86\n",
            "1   -95\n",
            "5   -98\n",
            "Name: rssi, dtype: int64, 1   -36\n",
            "3   -35\n",
            "4   -31\n",
            "5   -49\n",
            "9   -46\n",
            "Name: rssi, dtype: int64]\n"
          ],
          "name": "stdout"
        }
      ]
    }
  ]
}